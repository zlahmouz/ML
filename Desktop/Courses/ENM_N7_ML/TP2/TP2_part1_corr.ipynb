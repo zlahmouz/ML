{
  "cells": [
    {
      "cell_type": "markdown",
      "metadata": {
        "id": "fSzS8JtZnR_V"
      },
      "source": [
        "# Practical session n°2\n",
        "\n",
        "In Part I:\n",
        "- Training a CNN on MNIST. Comparison with a multi-layer perceptron.\n",
        "- Initialization methods, regularization methods.\n",
        "\n",
        "In Part II:\n",
        "\n",
        "- Learning on a graphics card.\n",
        "- Improving gradient descent: SGD with momentum and progressive learning rate decay (scheduler).\n",
        "- Transfer learning: fine-tuning and freezing.\n",
        "\n",
        "Duration: 2 h"
      ]
    },
    {
      "cell_type": "markdown",
      "metadata": {
        "id": "9Jp87bbda7qc"
      },
      "source": [
        "**Part I**\n",
        "\n",
        "\n",
        "Now that we have covered the basic building blocks, we will train a Convolutional Neural Network (CNN) on a slightly more challenging problem than separation of points in a 2D space: handwritten digit recognition."
      ]
    },
    {
      "cell_type": "markdown",
      "metadata": {
        "id": "9-6auA4Cc6xC"
      },
      "source": [
        "The dataset is named MNIST. It is located in the shared folder and comprises black and white (1 channel) images of 28x28 pixels. A specific dataset object is allocated to it in the torchvision.datasets module. The subsequent cells are designed to import packages, download the dataset, and showcase some images."
      ]
    },
    {
      "cell_type": "code",
      "execution_count": 1,
      "metadata": {
        "id": "eN2o2vVtaHcE"
      },
      "outputs": [],
      "source": [
        "import matplotlib.pyplot as plt\n",
        "import numpy as np\n",
        "import os\n",
        "import torch\n",
        "import torchvision\n",
        "import torch.nn as nn\n",
        "import torch.nn.functional as F\n",
        "from torch.utils.data import Dataset, DataLoader\n",
        "from torchvision import datasets, models, transforms"
      ]
    },
    {
      "cell_type": "code",
      "execution_count": 2,
      "metadata": {
        "colab": {
          "base_uri": "https://localhost:8080/"
        },
        "id": "gtLw0uMvrbtj",
        "outputId": "36998602-8a1f-4c8f-9a44-da4edb9e4ac4"
      },
      "outputs": [
        {
          "output_type": "stream",
          "name": "stdout",
          "text": [
            "Downloading http://yann.lecun.com/exdb/mnist/train-images-idx3-ubyte.gz\n",
            "Downloading http://yann.lecun.com/exdb/mnist/train-images-idx3-ubyte.gz to ./data/MNIST/raw/train-images-idx3-ubyte.gz\n"
          ]
        },
        {
          "output_type": "stream",
          "name": "stderr",
          "text": [
            "100%|██████████| 9912422/9912422 [00:00<00:00, 114883671.03it/s]\n"
          ]
        },
        {
          "output_type": "stream",
          "name": "stdout",
          "text": [
            "Extracting ./data/MNIST/raw/train-images-idx3-ubyte.gz to ./data/MNIST/raw\n",
            "\n",
            "Downloading http://yann.lecun.com/exdb/mnist/train-labels-idx1-ubyte.gz\n",
            "Downloading http://yann.lecun.com/exdb/mnist/train-labels-idx1-ubyte.gz to ./data/MNIST/raw/train-labels-idx1-ubyte.gz\n"
          ]
        },
        {
          "output_type": "stream",
          "name": "stderr",
          "text": [
            "100%|██████████| 28881/28881 [00:00<00:00, 120055197.05it/s]\n"
          ]
        },
        {
          "output_type": "stream",
          "name": "stdout",
          "text": [
            "Extracting ./data/MNIST/raw/train-labels-idx1-ubyte.gz to ./data/MNIST/raw\n",
            "\n",
            "Downloading http://yann.lecun.com/exdb/mnist/t10k-images-idx3-ubyte.gz\n",
            "Downloading http://yann.lecun.com/exdb/mnist/t10k-images-idx3-ubyte.gz to ./data/MNIST/raw/t10k-images-idx3-ubyte.gz\n"
          ]
        },
        {
          "output_type": "stream",
          "name": "stderr",
          "text": [
            "100%|██████████| 1648877/1648877 [00:00<00:00, 52593129.91it/s]"
          ]
        },
        {
          "output_type": "stream",
          "name": "stdout",
          "text": [
            "Extracting ./data/MNIST/raw/t10k-images-idx3-ubyte.gz to ./data/MNIST/raw\n"
          ]
        },
        {
          "output_type": "stream",
          "name": "stderr",
          "text": [
            "\n"
          ]
        },
        {
          "output_type": "stream",
          "name": "stdout",
          "text": [
            "\n",
            "Downloading http://yann.lecun.com/exdb/mnist/t10k-labels-idx1-ubyte.gz\n",
            "Downloading http://yann.lecun.com/exdb/mnist/t10k-labels-idx1-ubyte.gz to ./data/MNIST/raw/t10k-labels-idx1-ubyte.gz\n"
          ]
        },
        {
          "output_type": "stream",
          "name": "stderr",
          "text": [
            "100%|██████████| 4542/4542 [00:00<00:00, 1124057.63it/s]\n"
          ]
        },
        {
          "output_type": "stream",
          "name": "stdout",
          "text": [
            "Extracting ./data/MNIST/raw/t10k-labels-idx1-ubyte.gz to ./data/MNIST/raw\n",
            "\n"
          ]
        }
      ],
      "source": [
        "root = '.'\n",
        "\n",
        "# transforms (format/normalization)\n",
        "tr=torchvision.transforms.Compose([\n",
        "   torchvision.transforms.ToTensor(),\n",
        "   torchvision.transforms.Normalize((0.1307,), (0.3081,))\n",
        "   ])\n",
        "\n",
        "# Definition of training sets:\n",
        "ds = {'train': torchvision.datasets.MNIST(root='./data',\n",
        "                                          train = True,\n",
        "                                          download = True,\n",
        "                                          transform = tr\n",
        "                                          ),\n",
        "      'val': torchvision.datasets.MNIST(root='./data',\n",
        "                                        train = False,\n",
        "                                        download = True,\n",
        "                                        transform = tr)\n",
        "     }"
      ]
    },
    {
      "cell_type": "code",
      "execution_count": 3,
      "metadata": {
        "colab": {
          "base_uri": "https://localhost:8080/"
        },
        "id": "MyYZ8PBCan6c",
        "outputId": "b5016d51-400d-4f30-fda2-8d72b8f3b3a2"
      },
      "outputs": [
        {
          "output_type": "stream",
          "name": "stderr",
          "text": [
            "/usr/local/lib/python3.10/dist-packages/torch/utils/data/dataloader.py:557: UserWarning: This DataLoader will create 4 worker processes in total. Our suggested max number of worker in current system is 2, which is smaller than what this DataLoader is going to create. Please be aware that excessive worker creation might get DataLoader running slow or even freeze, lower the worker number to avoid potential slowness/freeze if necessary.\n",
            "  warnings.warn(_create_warning_msg(\n"
          ]
        },
        {
          "output_type": "execute_result",
          "data": {
            "text/plain": [
              "<torch._C.Generator at 0x7ee7f56cffd0>"
            ]
          },
          "metadata": {},
          "execution_count": 3
        }
      ],
      "source": [
        "phases = ['train','val']\n",
        "\n",
        "# Dataloaders:\n",
        "bs = 8\n",
        "loader ={x :  DataLoader(ds[x], batch_size=bs, shuffle=True, num_workers = 4) for x in phases}\n",
        "# To parallelize the loading of thumbnails into RAM:\n",
        "num_workers = 2\n",
        "# (data loading is thus parallelized, for even faster performance, we will use a GPU - see Part II)\n",
        "\n",
        "# Sizes (for score calculation)\n",
        "dataset_sizes = {x: len(ds[x]) for x in  phases}\n",
        "\n",
        "# we fix the random number generator\n",
        "random_seed = 1\n",
        "torch.manual_seed(random_seed)\n"
      ]
    },
    {
      "cell_type": "code",
      "execution_count": 4,
      "metadata": {
        "colab": {
          "base_uri": "https://localhost:8080/",
          "height": 480
        },
        "id": "AJ5jwbPKarBT",
        "outputId": "79fccaad-92a4-4172-aa36-9d9560a06287"
      },
      "outputs": [
        {
          "output_type": "stream",
          "name": "stdout",
          "text": [
            "torch.Size([8, 1, 28, 28])\n"
          ]
        },
        {
          "output_type": "display_data",
          "data": {
            "text/plain": [
              "<Figure size 640x480 with 8 Axes>"
            ],
            "image/png": "[encoded data removed]"
          },
          "metadata": {}
        }
      ],
      "source": [
        "x, t = next(iter(loader['train']))\n",
        "\n",
        "print(x.shape)\n",
        "\n",
        "fig = plt.figure()\n",
        "for i in range(8):\n",
        "  plt.subplot(4,2,i+1)\n",
        "  plt.tight_layout()\n",
        "  plt.imshow(x[i,0,:,:], cmap='gray') #, interpolation='none')\n",
        "  plt.title(\"Ground Truth: {}\".format(t[i]))\n",
        "  plt.xticks([])\n",
        "  plt.yticks([])\n",
        "\n"
      ]
    },
    {
      "cell_type": "markdown",
      "metadata": {
        "id": "XWHzA-82fq_7"
      },
      "source": [
        "Now, we will define a shallow CNN (two convolution layers).\n",
        "\n",
        "**Exercise:**  Determine *N* in such a way that the network can accept MNIST images as input."
      ]
    },
    {
      "cell_type": "code",
      "execution_count": 19,
      "metadata": {
        "id": "BRQ6P0duauRr",
        "nbgrader": {
          "grade": false,
          "grade_id": "cell-caf94083627c780a",
          "locked": false,
          "schema_version": 3,
          "solution": true,
          "task": false
        },
        "tags": []
      },
      "outputs": [],
      "source": [
        "# N = ...\n",
        "### BEGIN SOLUTION\n",
        "N = 490\n",
        "### END SOLUTION\n",
        "\n",
        "class CNN(nn.Module):\n",
        "\n",
        "    def __init__(self):\n",
        "        super(CNN, self).__init__()\n",
        "        self.conv1 = nn.Conv2d(1, 10, kernel_size=5, padding=2)\n",
        "        self.conv2 = nn.Conv2d(10, 10, kernel_size=5, padding=2)\n",
        "        self.fc1 = nn.Linear(N, 50)\n",
        "        self.fc2 = nn.Linear(50, 10)\n",
        "\n",
        "    def forward(self, x):\n",
        "        x = F.relu(F.max_pool2d(self.conv1(x), 2))\n",
        "        x = F.relu(F.max_pool2d(self.conv2(x), 2))\n",
        "        x = x.view(-1, N)\n",
        "        x = F.relu(self.fc1(x))\n",
        "        x = F.dropout(x, training=self.training)\n",
        "        x = self.fc2(x)\n",
        "        # Here, the log is applied after the softmax:\n",
        "        return F.log_softmax(x, dim=1)"
      ]
    },
    {
      "cell_type": "code",
      "execution_count": 20,
      "metadata": {
        "id": "f_GdrC04hvjL"
      },
      "outputs": [],
      "source": [
        "model = CNN()\n",
        "\n",
        "#optimizer = torch.optim.SGD(model.parameters(), lr = 0.01, momentum = 0.9)\n",
        "optimizer = torch.optim.Adam(model.parameters(), lr = 0.001)\n",
        "\n",
        "# We select the log likelihoods for the true classes:\n",
        "loss_fn =  torch.nn.NLLLoss()"
      ]
    },
    {
      "cell_type": "markdown",
      "metadata": {
        "id": "zP49HEuzhu8k"
      },
      "source": [
        "The training loop has two phases: weights are updated only in the first phase dedicated to training. During the validation phase, generalization performance on independent images is monitored:"
      ]
    },
    {
      "cell_type": "code",
      "execution_count": null,
      "metadata": {
        "id": "qHltWFJYCI3n"
      },
      "outputs": [],
      "source": [
        "import time\n",
        "\n",
        "# Initialize time\n",
        "start_time = time.time()\n",
        "\n",
        "# Learning Loop:\n",
        "for epoch in range(6):\n",
        "    print(f'Epoch: {epoch}')\n",
        "\n",
        "    running_loss_train = 0.0\n",
        "    running_corrects_train = 0\n",
        "    running_loss_val = 0.0\n",
        "    running_corrects_val = 0\n",
        "\n",
        "    # Phase 1: Training\n",
        "    model.train()  # Set the model to training mode\n",
        "    for x, label in loader['train']:\n",
        "        optimizer.zero_grad()\n",
        "        output = model(x)\n",
        "        loss = loss_fn(output, label)\n",
        "        loss.backward()\n",
        "        optimizer.step()\n",
        "\n",
        "        # Get predicted classes:\n",
        "        _, preds = torch.max(output, 1)\n",
        "\n",
        "        # Update counters:\n",
        "        running_loss_train += loss.item() * x.shape[0]\n",
        "        running_corrects_train += torch.sum(preds == label.data)\n",
        "\n",
        "    # Calculate training scores:\n",
        "    epoch_loss_train = running_loss_train / dataset_sizes['train']\n",
        "    epoch_acc_train = running_corrects_train.float() / dataset_sizes['train']\n",
        "\n",
        "    print(f'Train Loss: {epoch_loss_train:.4f} Acc: {epoch_acc_train:.4f}')\n",
        "\n",
        "    # Phase 2: Validation\n",
        "    model.eval()  # Set the model to evaluation mode\n",
        "    with torch.no_grad():\n",
        "        for x, label in loader['val']:\n",
        "            output = model(x)\n",
        "            loss = loss_fn(output, label)\n",
        "\n",
        "            # Get predicted classes:\n",
        "            _, preds = torch.max(output, 1)\n",
        "\n",
        "            # Update counters:\n",
        "            running_loss_val += loss.item() * x.shape[0]\n",
        "            running_corrects_val += torch.sum(preds == label.data)\n",
        "\n",
        "    # Calculate validation scores and print:\n",
        "    epoch_loss_val = running_loss_val / dataset_sizes['val']\n",
        "    epoch_acc_val = running_corrects_val.float() / dataset_sizes['val']\n",
        "\n",
        "    print(f'Validation Loss: {epoch_loss_val:.4f} Acc: {epoch_acc_val:.4f}')\n",
        "\n",
        "    # Print elapsed time:\n",
        "    elapsed_time = time.time() - start_time\n",
        "    print(f'Time: {round(elapsed_time)} seconds')\n",
        "\n",
        "    # Update start time for the next epoch\n",
        "    start_time = time.time()"
      ]
    },
    {
      "cell_type": "markdown",
      "metadata": {
        "id": "mZQq3pNGnuD0"
      },
      "source": [
        "**Exercise**:\n",
        "At each epoch, store the accuracy and the cost function value in the lists train_losses, val_losses, train_accs, and val_accs.\n",
        "Plot the **learning curves** over six epochs. \\\\"
      ]
    },
    {
      "cell_type": "code",
      "execution_count": 21,
      "metadata": {
        "colab": {
          "base_uri": "https://localhost:8080/"
        },
        "id": "kWQvoDL4yNAP",
        "nbgrader": {
          "grade": false,
          "grade_id": "cell-ad40e631509f5fff",
          "locked": false,
          "schema_version": 3,
          "solution": true,
          "task": false
        },
        "outputId": "3114c21a-3d49-4d68-a182-6d810bd1939a",
        "tags": []
      },
      "outputs": [
        {
          "output_type": "stream",
          "name": "stdout",
          "text": [
            "epoch :0\n",
            "train Loss: 0.3114 Acc: 0.9031\n",
            "val Loss: 0.0658 Acc: 0.9788\n",
            "Time: 66 seconds\n",
            "epoch :1\n",
            "train Loss: 0.0600 Acc: 0.9814\n",
            "val Loss: 0.0455 Acc: 0.9863\n",
            "Time: 129 seconds\n",
            "epoch :2\n",
            "train Loss: 0.0453 Acc: 0.9857\n",
            "val Loss: 0.0413 Acc: 0.9872\n",
            "Time: 190 seconds\n",
            "epoch :3\n",
            "train Loss: 0.0374 Acc: 0.9883\n",
            "val Loss: 0.0389 Acc: 0.9886\n",
            "Time: 252 seconds\n",
            "epoch :4\n",
            "train Loss: 0.0315 Acc: 0.9900\n",
            "val Loss: 0.0429 Acc: 0.9874\n",
            "Time: 312 seconds\n",
            "epoch :5\n",
            "train Loss: 0.0274 Acc: 0.9914\n",
            "val Loss: 0.0413 Acc: 0.9893\n",
            "Time: 374 seconds\n"
          ]
        }
      ],
      "source": [
        "train_losses = []\n",
        "val_losses = []\n",
        "\n",
        "train_accs = []\n",
        "val_accs = []\n",
        "\n",
        "### BEGIN SOLUTION\n",
        "\n",
        "# Initialize time\n",
        "start_time = time.time()\n",
        "\n",
        "# Learning Loop:\n",
        "for epoch in range(6):\n",
        "    print('epoch :' + str(epoch))\n",
        "\n",
        "    running_loss_train = 0.\n",
        "    running_corrects_train = 0.\n",
        "    running_loss_val = 0.\n",
        "    running_corrects_val = 0.\n",
        "\n",
        "    # Training\n",
        "    for x, label in loader['train']:\n",
        "        optimizer.zero_grad()\n",
        "        output = model(x)\n",
        "        l = loss_fn(output, label)\n",
        "        l.backward()\n",
        "        optimizer.step()\n",
        "\n",
        "        # Get predicted classes:\n",
        "        _, preds = torch.max(output, 1)\n",
        "\n",
        "        # Counters:\n",
        "        running_loss_train += l.item() * x.shape[0]\n",
        "        running_corrects_train += torch.sum(preds == label.data)\n",
        "\n",
        "    # Calculate training scores and store:\n",
        "\n",
        "\n",
        "    epoch_loss_train = running_loss_train / dataset_sizes['train']\n",
        "    epoch_acc_train = running_corrects_train.float() / dataset_sizes['train']\n",
        "\n",
        "\n",
        "    train_losses.append(epoch_loss_train)\n",
        "    train_accs.append(epoch_acc_train)\n",
        "\n",
        "    print('{} Loss: {:.4f} Acc: {:.4f}'.format(\n",
        "        'train', epoch_loss_train, epoch_acc_train))\n",
        "\n",
        "\n",
        "    # validation\n",
        "    model.eval()\n",
        "\n",
        "    for x, label in loader['val']:\n",
        "\n",
        "        with torch.no_grad():\n",
        "            output = model(x)\n",
        "            l = loss_fn(output, label)\n",
        "\n",
        "        # Get predicted classes:\n",
        "        _, preds = torch.max(output, 1)\n",
        "\n",
        "        # Counters:\n",
        "        running_loss_val += l.item() * x.shape[0]\n",
        "        running_corrects_val += torch.sum(preds == label.data)\n",
        "\n",
        "    # Calculate training scores and store:\n",
        "    epoch_loss_val = running_loss_val / dataset_sizes['val']\n",
        "    epoch_acc_val = running_corrects_val.float() / dataset_sizes['val']\n",
        "\n",
        "\n",
        "    val_losses.append(epoch_loss_val)\n",
        "    val_accs.append(epoch_acc_val)\n",
        "\n",
        "\n",
        "    print('{} Loss: {:.4f} Acc: {:.4f}'.format(\n",
        "        'val', epoch_loss_val, epoch_acc_val))\n",
        "\n",
        "    # Print elapsed time:\n",
        "    elapsed_time = time.time() - start_time\n",
        "    print(f'Time: {round(elapsed_time)} seconds')\n",
        "\n",
        "\n",
        "### END SOLUTION"
      ]
    },
    {
      "cell_type": "code",
      "execution_count": 22,
      "metadata": {
        "colab": {
          "base_uri": "https://localhost:8080/",
          "height": 469
        },
        "id": "vjUhzOuWuKvU",
        "nbgrader": {
          "grade": false,
          "grade_id": "cell-29721af3359f5f0c",
          "locked": false,
          "schema_version": 3,
          "solution": true,
          "task": false
        },
        "outputId": "f1afc0c6-7c2b-4896-f6ff-e2ee004dc2d9",
        "tags": []
      },
      "outputs": [
        {
          "output_type": "execute_result",
          "data": {
            "text/plain": [
              "<matplotlib.legend.Legend at 0x7ee72643dcf0>"
            ]
          },
          "metadata": {},
          "execution_count": 22
        },
        {
          "output_type": "display_data",
          "data": {
            "text/plain": [
              "<Figure size 640x480 with 1 Axes>"
            ],
            "image/png": "[encoded data removed]"
          },
          "metadata": {}
        }
      ],
      "source": [
        "fig, ax = plt.subplots()\n",
        "plt.title('accuracy = f(epoch)')\n",
        "### BEGIN SOLUTION\n",
        "ax.plot(np.arange(6), np.array(train_accs), color = 'r')\n",
        "ax.plot(np.arange(6), np.array(val_accs), color = 'b')\n",
        "ax.legend(['train acc.', 'val acc.'])\n",
        "### END SOLUTION"
      ]
    },
    {
      "cell_type": "code",
      "execution_count": null,
      "metadata": {
        "colab": {
          "base_uri": "https://localhost:8080/",
          "height": 489
        },
        "id": "IzEGdnJ-y0mO",
        "nbgrader": {
          "grade": false,
          "grade_id": "cell-1f710c6281b43308",
          "locked": false,
          "schema_version": 3,
          "solution": true,
          "task": false
        },
        "outputId": "a7269947-53ea-4d2d-c348-0e88651b186d",
        "tags": []
      },
      "outputs": [
        {
          "data": {
            "text/plain": [
              "<matplotlib.legend.Legend at 0x79a33f6b47c0>"
            ]
          },
          "execution_count": 10,
          "metadata": {},
          "output_type": "execute_result"
        },
        {
          "data": {
            "image/png": "[encoded data removed]",
            "text/plain": [
              "<Figure size 640x480 with 1 Axes>"
            ]
          },
          "metadata": {},
          "output_type": "display_data"
        }
      ],
      "source": [
        "fig2, ax2 = plt.subplots()\n",
        "### BEGIN SOLUTION\n",
        "plt.title('loss = f(epoch)')\n",
        "ax2.plot(np.arange(6), np.array(train_losses), color = 'r')\n",
        "ax2.plot(np.arange(6), np.array(val_losses), color = 'b')\n",
        "ax2.legend(['train losses', 'val losses'])\n",
        "### END SOLUTION"
      ]
    },
    {
      "cell_type": "markdown",
      "metadata": {
        "id": "LPJ1inr0ru_9"
      },
      "source": [
        "**Exercise:** Take the two-layer perceptron (fc1 and fc2) from the TP1 part 1 and modify it to directly take MNIST images as input.\n",
        "Compare the standalone perceptron to the CNN in terms of size (number of weights) and performance."
      ]
    },
    {
      "cell_type": "code",
      "execution_count": null,
      "metadata": {
        "id": "kTVMO0md1cfA",
        "nbgrader": {
          "grade": false,
          "grade_id": "cell-8d7d9ddad78b7109",
          "locked": false,
          "schema_version": 3,
          "solution": true,
          "task": false
        },
        "tags": []
      },
      "outputs": [],
      "source": [
        "### BEGIN SOLUTION\n",
        "class P60(nn.Module):\n",
        "\n",
        "    def __init__(self):\n",
        "        super(P60, self).__init__()\n",
        "        self.fc1 = nn.Linear(28*28, 50)\n",
        "        self.fc2 = nn.Linear(50, 10)\n",
        "\n",
        "    def forward(self, x):\n",
        "        x = x.view(-1, 28*28)\n",
        "        x = F.relu(self.fc1(x))\n",
        "        x = F.dropout(x, training=self.training)\n",
        "        x = self.fc2(x)\n",
        "        return F.log_softmax(x, dim=1)\n",
        "\n",
        "perceptron = P60()\n",
        "optimizer = torch.optim.Adam(perceptron.parameters(), lr = 0.001)\n",
        "loss_fn =  torch.nn.NLLLoss()\n",
        "### END SOLUTION"
      ]
    },
    {
      "cell_type": "code",
      "execution_count": null,
      "metadata": {
        "colab": {
          "base_uri": "https://localhost:8080/"
        },
        "id": "rw9NdP5nz2mg",
        "nbgrader": {
          "grade": false,
          "grade_id": "cell-478962a7815b241c",
          "locked": false,
          "schema_version": 3,
          "solution": true,
          "task": false
        },
        "outputId": "61d52aee-38c2-4196-b2c9-342b7f43f258",
        "tags": []
      },
      "outputs": [
        {
          "name": "stdout",
          "output_type": "stream",
          "text": [
            "CNN: \n",
            "\n",
            " nb of parameters (conv) : 2770\n",
            " nb of parameters (fc) : 25060\n",
            " total: 27830\n",
            "verif : 27830\n",
            "\n",
            "\n",
            "P60: \n",
            "\n",
            "nb of parameters (fc) : 39760\n",
            "verif: 39760\n"
          ]
        }
      ],
      "source": [
        "# Comparaison des tailles:\n",
        "\n",
        "### BEGIN SOLUTION\n",
        "# CNN (don't forget the scalar biases, present by default):\n",
        "print(\"CNN: \\n\")\n",
        "print(\" nb of parameters (conv) : \" + str(10*1*5*5 + 10 + 10*10*5*5 + 10))\n",
        "print(\" nb of parameters (fc) : \" + str(490*50 + 50 + 50*10 + 10))\n",
        "print(\" total: \" + str(10*1*5*5 + 10 + 10*10*5*5 + 10 + \\\n",
        "                        490*50 + 50 + 50*10 + 10))\n",
        "\n",
        "# Verification:\n",
        "nb_weights = 0\n",
        "for module in model.modules():\n",
        "  if isinstance(module, nn.Conv2d) or isinstance(module, nn.Linear):\n",
        "    for parameter in module.parameters():\n",
        "      nb_weights += torch.numel(parameter)\n",
        "print(\"verif : \" + str(nb_weights))\n",
        "print(\"\\n\")\n",
        "\n",
        "# Perceptron P60:\n",
        "print(\"P60: \\n\")\n",
        "print(\"nb of parameters (fc) : \" + str(28*28*50 + 50 + 50*10 + 10))\n",
        "\n",
        "# Verification:\n",
        "nb_weights = 0\n",
        "for module in perceptron.modules():\n",
        "  if isinstance(module, nn.Conv2d) or isinstance(module, nn.Linear):\n",
        "    for parameter in module.parameters():\n",
        "      nb_weights += torch.numel(parameter)\n",
        "print(\"verif: \" + str(nb_weights))\n",
        "\n",
        "# There are more parameters (weights) in the perceptron.\n",
        "\n",
        "### END SOLUTION"
      ]
    },
    {
      "cell_type": "code",
      "execution_count": null,
      "metadata": {
        "colab": {
          "base_uri": "https://localhost:8080/"
        },
        "id": "12qtwUymACjF",
        "nbgrader": {
          "grade": false,
          "grade_id": "cell-0292185aff8e14bf",
          "locked": false,
          "schema_version": 3,
          "solution": true,
          "task": false
        },
        "outputId": "a5a92cb4-780d-41bf-e81c-8b30ce4b939f",
        "tags": []
      },
      "outputs": [
        {
          "name": "stdout",
          "output_type": "stream",
          "text": [
            "epoch :0\n",
            "train Loss: 0.5345 Acc: 0.8286\n",
            "val Loss: 0.2217 Acc: 0.9363\n",
            "time 38\n",
            "epoch :1\n",
            "train Loss: 0.1591 Acc: 0.9528\n",
            "val Loss: 0.1278 Acc: 0.9623\n",
            "time 37\n",
            "epoch :2\n",
            "train Loss: 0.1133 Acc: 0.9650\n",
            "val Loss: 0.1224 Acc: 0.9641\n",
            "time 37\n",
            "epoch :3\n",
            "train Loss: 0.0935 Acc: 0.9707\n",
            "val Loss: 0.1051 Acc: 0.9700\n",
            "time 37\n",
            "epoch :4\n",
            "train Loss: 0.0803 Acc: 0.9746\n",
            "val Loss: 0.1050 Acc: 0.9704\n",
            "time 37\n",
            "epoch :5\n",
            "train Loss: 0.0721 Acc: 0.9776\n",
            "val Loss: 0.1213 Acc: 0.9677\n",
            "time 37\n"
          ]
        }
      ],
      "source": [
        "# Performance comparison (on the validation set):\n",
        "### BEGIN SOLUTION\n",
        "import time\n",
        "t = time.time()\n",
        "\n",
        "train_losses_p = []\n",
        "val_losses_p = []\n",
        "\n",
        "train_accs_p= []\n",
        "val_accs_p = []\n",
        "\n",
        "loader ={x :  DataLoader(ds[x], batch_size=bs, shuffle=True, num_workers = 4) for x in phases}\n",
        "\n",
        "# Learning Loop\n",
        "for epoch in range(6):\n",
        "    print('epoch :' + str(epoch))\n",
        "\n",
        "    running_loss_train = 0.\n",
        "    running_corrects_train = 0.\n",
        "    running_loss_val = 0.\n",
        "    running_corrects_val = 0.\n",
        "\n",
        "    # Training\n",
        "    for x, label in loader['train']:\n",
        "        optimizer.zero_grad()\n",
        "        output = perceptron(x)\n",
        "        l = loss_fn(output, label)\n",
        "        l.backward()\n",
        "        optimizer.step()\n",
        "\n",
        "        # Counters:\n",
        "        _, preds = torch.max(output, 1)\n",
        "        running_loss_train += l.item() * x.shape[0]\n",
        "        running_corrects_train += torch.sum(preds == label.data)\n",
        "\n",
        "    # Calculate training scores and store:\n",
        "    epoch_loss_train = running_loss_train / dataset_sizes['train']\n",
        "    epoch_acc_train = running_corrects_train.float() / dataset_sizes['train']\n",
        "\n",
        "    train_losses_p.append(epoch_loss_train)\n",
        "    train_accs_p.append(epoch_acc_train)\n",
        "\n",
        "    print('{} Loss: {:.4f} Acc: {:.4f}'.format(\n",
        "        'train', epoch_loss_train, epoch_acc_train))\n",
        "\n",
        "    # Validation\n",
        "    perceptron.eval()\n",
        "\n",
        "    for x, label in loader['val']:\n",
        "\n",
        "        with torch.no_grad():\n",
        "            output = perceptron(x)\n",
        "            l = loss_fn(output, label)\n",
        "\n",
        "        # Counters\n",
        "        _, preds = torch.max(output, 1)\n",
        "        running_loss_val += l.item() * x.shape[0]\n",
        "        running_corrects_val += torch.sum(preds == label.data)\n",
        "\n",
        "    # Calculate training scores and store:\n",
        "    epoch_loss_val = running_loss_val / dataset_sizes['val']\n",
        "    epoch_acc_val = running_corrects_val.float() / dataset_sizes['val']\n",
        "\n",
        "    val_losses_p.append(epoch_loss_val)\n",
        "    val_accs_p.append(epoch_acc_val)\n",
        "\n",
        "\n",
        "    print('{} Loss: {:.4f} Acc: {:.4f}'.format(\n",
        "        'val', epoch_loss_val, epoch_acc_val))\n",
        "\n",
        "    new_t = time.time()\n",
        "    print('time ' +str(round(new_t- t)))\n",
        "    t = new_t\n",
        "### END SOLUTION"
      ]
    },
    {
      "cell_type": "markdown",
      "metadata": {
        "id": "kSjokBh7zZ7m"
      },
      "source": [
        "**Note:** It is not easy to improve scores with a larger perceptron:"
      ]
    },
    {
      "cell_type": "code",
      "execution_count": null,
      "metadata": {
        "id": "u2sh9EeMuuks"
      },
      "outputs": [],
      "source": [
        "class BiggerPerceptron(nn.Module):\n",
        "\n",
        "    def __init__(self):\n",
        "        super(BiggerPerceptron, self).__init__()\n",
        "        self.fc01 = nn.Linear(28*28, 50)\n",
        "        self.fc02 = nn.Linear(50, 200)\n",
        "        self.fc1 = nn.Linear(200, 50)\n",
        "        self.fc2 = nn.Linear(50, 10)\n",
        "\n",
        "    def forward(self, x):\n",
        "        x = x.view(-1, 28*28)\n",
        "        x = F.relu(self.fc01(x))\n",
        "        x = F.dropout(x, training=self.training)\n",
        "        x = F.relu(self.fc02(x))\n",
        "        x = F.dropout(x, training=self.training)\n",
        "        x = F.relu(self.fc1(x))\n",
        "        x = F.dropout(x, training=self.training)\n",
        "        x = self.fc2(x)\n",
        "        return F.log_softmax(x, dim=1)"
      ]
    },
    {
      "cell_type": "code",
      "execution_count": null,
      "metadata": {
        "id": "6u3KZH3nviP3"
      },
      "outputs": [],
      "source": [
        "bigger_perceptron = BiggerPerceptron()\n",
        "optimizer = torch.optim.Adam(bigger_perceptron.parameters(), lr = 0.001)\n",
        "loss_fn =  torch.nn.NLLLoss()"
      ]
    },
    {
      "cell_type": "code",
      "execution_count": null,
      "metadata": {
        "colab": {
          "base_uri": "https://localhost:8080/"
        },
        "id": "hq10q0mvqJtY",
        "outputId": "5b65c2df-1448-4efe-f0b7-f032e340f34c"
      },
      "outputs": [
        {
          "name": "stdout",
          "output_type": "stream",
          "text": [
            "60010\n"
          ]
        }
      ],
      "source": [
        "# bigger_perceptron :\n",
        "nb_weights = 0\n",
        "for module in bigger_perceptron.modules():\n",
        "  if isinstance(module, nn.Conv2d) or isinstance(module, nn.Linear):\n",
        "    for parameter in module.parameters():\n",
        "      nb_weights += torch.numel(parameter)\n",
        "print(nb_weights)"
      ]
    },
    {
      "cell_type": "code",
      "execution_count": null,
      "metadata": {
        "colab": {
          "base_uri": "https://localhost:8080/"
        },
        "id": "pt-dV_-Ka2hC",
        "outputId": "096ad01a-86f1-4b0b-c2fa-504c4e3d215a"
      },
      "outputs": [
        {
          "name": "stdout",
          "output_type": "stream",
          "text": [
            "epoch :0\n",
            "train Loss: 0.8702 Acc: 0.7332\n",
            "val Loss: 0.3496 Acc: 0.9087\n",
            "time 45\n",
            "epoch :1\n",
            "train Loss: 0.2179 Acc: 0.9350\n",
            "val Loss: 0.1802 Acc: 0.9458\n",
            "time 44\n",
            "epoch :2\n",
            "train Loss: 0.1420 Acc: 0.9579\n",
            "val Loss: 0.1382 Acc: 0.9619\n",
            "time 43\n",
            "epoch :3\n",
            "train Loss: 0.1160 Acc: 0.9650\n",
            "val Loss: 0.1255 Acc: 0.9647\n",
            "time 44\n",
            "epoch :4\n",
            "train Loss: 0.0975 Acc: 0.9707\n",
            "val Loss: 0.1452 Acc: 0.9632\n",
            "time 45\n",
            "epoch :5\n",
            "train Loss: 0.0909 Acc: 0.9734\n",
            "val Loss: 0.1237 Acc: 0.9670\n",
            "time 43\n",
            "epoch :6\n",
            "train Loss: 0.0829 Acc: 0.9751\n",
            "val Loss: 0.1408 Acc: 0.9658\n",
            "time 44\n",
            "epoch :7\n",
            "train Loss: 0.0771 Acc: 0.9764\n",
            "val Loss: 0.1465 Acc: 0.9673\n",
            "time 44\n",
            "epoch :8\n",
            "train Loss: 0.0748 Acc: 0.9782\n",
            "val Loss: 0.1430 Acc: 0.9637\n",
            "time 45\n",
            "epoch :9\n",
            "train Loss: 0.0701 Acc: 0.9790\n",
            "val Loss: 0.1398 Acc: 0.9689\n",
            "time 46\n",
            "epoch :10\n",
            "train Loss: 0.0672 Acc: 0.9801\n",
            "val Loss: 0.1363 Acc: 0.9694\n",
            "time 47\n",
            "epoch :11\n",
            "train Loss: 0.0654 Acc: 0.9802\n",
            "val Loss: 0.1499 Acc: 0.9679\n",
            "time 47\n",
            "epoch :12\n",
            "train Loss: 0.0632 Acc: 0.9818\n",
            "val Loss: 0.1671 Acc: 0.9662\n",
            "time 48\n",
            "epoch :13\n",
            "train Loss: 0.0624 Acc: 0.9818\n",
            "val Loss: 0.1959 Acc: 0.9647\n",
            "time 48\n",
            "epoch :14\n",
            "train Loss: 0.0597 Acc: 0.9827\n",
            "val Loss: 0.1561 Acc: 0.9676\n",
            "time 48\n"
          ]
        }
      ],
      "source": [
        "import time\n",
        "t = time.time()\n",
        "\n",
        "train_losses_p = []\n",
        "val_losses_p = []\n",
        "\n",
        "train_accs_p= []\n",
        "val_accs_p = []\n",
        "\n",
        "loader ={x :  DataLoader(ds[x], batch_size=bs, shuffle=True, num_workers = 4) for x in phases}\n",
        "\n",
        "#training loop:\n",
        "for epoch in range(15):\n",
        "    print('epoch :' + str(epoch))\n",
        "\n",
        "    running_loss_train = 0.\n",
        "    running_corrects_train = 0.\n",
        "    running_loss_val = 0.\n",
        "    running_corrects_val = 0.\n",
        "\n",
        "    for x, label in loader['train']:\n",
        "        optimizer.zero_grad()\n",
        "        output = bigger_perceptron(x)\n",
        "        l = loss_fn(output, label)\n",
        "        l.backward()\n",
        "        optimizer.step()\n",
        "\n",
        "        _, preds = torch.max(output, 1)\n",
        "        running_loss_train += l.item() * x.shape[0]\n",
        "        running_corrects_train += torch.sum(preds == label.data)\n",
        "\n",
        "    epoch_loss_train = running_loss_train / dataset_sizes['train']\n",
        "    epoch_acc_train = running_corrects_train.float() / dataset_sizes['train']\n",
        "\n",
        "    train_losses_p.append(epoch_loss_train)\n",
        "    train_accs_p.append(epoch_acc_train)\n",
        "\n",
        "    print('{} Loss: {:.4f} Acc: {:.4f}'.format(\n",
        "        'train', epoch_loss_train, epoch_acc_train))\n",
        "\n",
        "    bigger_perceptron.eval()\n",
        "\n",
        "    for x, label in loader['val']:\n",
        "\n",
        "        with torch.no_grad():\n",
        "            output = bigger_perceptron(x)\n",
        "            l = loss_fn(output, label)\n",
        "\n",
        "        _, preds = torch.max(output, 1)\n",
        "        running_loss_val += l.item() * x.shape[0]\n",
        "        running_corrects_val += torch.sum(preds == label.data)\n",
        "\n",
        "    epoch_loss_val = running_loss_val / dataset_sizes['val']\n",
        "    epoch_acc_val = running_corrects_val.float() / dataset_sizes['val']\n",
        "\n",
        "    val_losses_p.append(epoch_loss_val)\n",
        "    val_accs_p.append(epoch_acc_val)\n",
        "\n",
        "\n",
        "    print('{} Loss: {:.4f} Acc: {:.4f}'.format(\n",
        "        'val', epoch_loss_val, epoch_acc_val))\n",
        "\n",
        "    new_t = time.time()\n",
        "    print('time ' +str(round(new_t- t)))\n",
        "    t = new_t\n"
      ]
    }
  ],
  "metadata": {
    "accelerator": "GPU",
    "colab": {
      "gpuType": "T4",
      "provenance": []
    },
    "kernelspec": {
      "display_name": "Python 3 (ipykernel)",
      "language": "python",
      "name": "python3"
    },
    "language_info": {
      "codemirror_mode": {
        "name": "ipython",
        "version": 3
      },
      "file_extension": ".py",
      "mimetype": "text/x-python",
      "name": "python",
      "nbconvert_exporter": "python",
      "pygments_lexer": "ipython3",
      "version": "3.9.7"
    }
  },
  "nbformat": 4,
  "nbformat_minor": 0
}